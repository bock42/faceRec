{
 "cells": [
  {
   "cell_type": "markdown",
   "metadata": {},
   "source": [
    "# faceRec\n",
    "\n",
    "This IPython notebook will classify the emotion of a face"
   ]
  },
  {
   "cell_type": "markdown",
   "metadata": {},
   "source": [
    "Cohn-Kanade AU-Coded Expression Database - CK+\n",
    "University of Pittsburgh, Pittsburgh, PA\n",
    " \n",
    "123 subjects (85 female)\n",
    "\n",
    "FACS - Facial Action Coding System, extracts the geometrical features of the faces. Features are coded as action units (AU)\n",
    "\n",
    "To label an expression with one of the values below, it must contain the set of AUs associated with that emotion (see table 2 in paper cited below)\n",
    "\n",
    "0=neutral, 1=anger, 2=contempt, 3=disgust, 4=fear, 5=happy, 6=sadness, 7=surprise\n",
    "\n",
    "Lucey, P., Cohn, J. F., Kanade, T., Saragih, J., Ambadar, Z., & Matthews, I. (2010, June). The extended cohn-kanade dataset (ck+): A complete dataset for action unit and emotion-specified expression. In Computer Vision and Pattern Recognition Workshops (CVPRW), 2010 IEEE Computer Society Conference on (pp. 94-101). IEEE."
   ]
  },
  {
   "cell_type": "markdown",
   "metadata": {},
   "source": [
    "# Find the faces and emotion files"
   ]
  },
  {
   "cell_type": "code",
   "execution_count": null,
   "metadata": {
    "collapsed": true
   },
   "outputs": [],
   "source": [
    "import glob\n",
    "import os\n",
    "import numpy as np\n",
    "import cv2\n",
    "from time import time\n",
    "import cPickle as pickle\n",
    "from pandas import DataFrame\n",
    "from sklearn.model_selection import train_test_split\n",
    "from sklearn.decomposition import PCA\n",
    "from sklearn.model_selection import GridSearchCV\n",
    "from sklearn.svm import SVC\n",
    "from sklearn import neighbors, linear_model\n",
    "from sklearn.metrics import classification_report\n",
    "from sklearn.metrics import confusion_matrix\n",
    "from sklearn.metrics import precision_recall_curve\n",
    "from sklearn.metrics import roc_curve, auc\n",
    "from sklearn.metrics import precision_recall_fscore_support\n",
    "from sklearn.pipeline import Pipeline\n",
    "import matplotlib.pyplot as plt\n",
    "from matplotlib import gridspec"
   ]
  },
  {
   "cell_type": "code",
   "execution_count": null,
   "metadata": {
    "collapsed": false
   },
   "outputs": [],
   "source": [
    "# Define functions\n",
    "def findFace(inDict):\n",
    "    faceCascade = inDict['faceCascade']\n",
    "    # Load the emotion image\n",
    "    rawImg = cv2.imread(inDict['imFile'])\n",
    "    \n",
    "    # Reshape\n",
    "    if inDict['reshape']:\n",
    "        # Resize just the face\n",
    "        rawImg = cv2.resize(rawImg,(inDict['outImgSize'], inDict['outImgSize']), interpolation=cv2.INTER_CUBIC)\n",
    " \n",
    "    # Detect faces in the image\n",
    "    faces = faceCascade.detectMultiScale(\n",
    "        rawImg,\n",
    "        scaleFactor=inDict['scaleSize'],\n",
    "        minNeighbors=inDict['numNeighbors'],\n",
    "        minSize=(inDict['faceSize'], inDict['faceSize']),\n",
    "        flags = cv2.CASCADE_SCALE_IMAGE\n",
    "    )\n",
    "    return rawImg, faces\n",
    "\n",
    "def face2vec(inDict):\n",
    "    faces = inDict['faces']\n",
    "    rawImg = inDict['rawImg']\n",
    "    outImgSize = inDict['outImgSize']\n",
    "    # Get the largest face\n",
    "    i = np.where(faces[:, 2] == faces[:, 2].max())\n",
    "    faces = faces[i, :]\n",
    "    faces = faces[0, :]\n",
    "    x, y, w, h = faces[0, :]\n",
    "    \n",
    "    # Convert to gray\n",
    "    gImg = cv2.cvtColor(rawImg, cv2.COLOR_BGR2GRAY)\n",
    "    \n",
    "    # Rectangle on face\n",
    "    cv2.rectangle(rawImg, (x, y), (x + w, y + h), (0, 255, 0), 4)\n",
    "\n",
    "    # Resize just the face\n",
    "    x,y,w,h = faces[0,:]\n",
    "    faceImg = gImg[y:y+h,x:x+w]\n",
    "    faceImg = cv2.resize(faceImg,(outImgSize,outImgSize),interpolation = cv2.INTER_CUBIC)\n",
    "    \n",
    "    # Show images\n",
    "    if inDict['showImage']:\n",
    "        cv2.imshow('Image',faceImg)\n",
    "        cv2.waitKey(30)\n",
    "\n",
    "    # Flatten\n",
    "    l = faceImg.shape[0] * faceImg.shape[1]\n",
    "    img = faceImg.reshape(1, l)\n",
    "    \n",
    "    return img,faceImg,rawImg\n",
    "\n",
    "def savePlot(inDict):\n",
    "    plt.close('all')\n",
    "    imFiles = inDict['imFiles']\n",
    "    faceCascade = inDict['faceCascade']\n",
    "    emotionLabels = inDict['emotionLabels']\n",
    "    pca = inDict['pca']\n",
    "    clf = inDict['clf']\n",
    "    saveName = inDict['saveName']\n",
    "    allProbs = []\n",
    "    # Plot\n",
    "    fig = plt.figure(figsize=(18,6 * len(imFiles)),frameon=False);\n",
    "    gs = gridspec.GridSpec(len(imFiles), 2, width_ratios=[1,2]) \n",
    "    ct = -1\n",
    "    for i in range(len(imFiles)):\n",
    "        # Load the image\n",
    "        findDict = dict([\n",
    "            ('imFile',imFiles[i]),\n",
    "            ('scaleSize',1.05),\n",
    "            ('numNeighbors',3),\n",
    "            ('faceSize',10),\n",
    "            ('outImgSize',50),\n",
    "            ('reshape',0),\n",
    "            ('faceCascade',faceCascade),\n",
    "        ])\n",
    "        rawImg,faces = findFace(findDict)\n",
    "\n",
    "        # Pull out image for classification\n",
    "        faceDict = dict([\n",
    "            ('faces',faces),\n",
    "            ('rawImg',rawImg),\n",
    "            ('outImgSize',500),\n",
    "            ('showImage',0),\n",
    "        ])\n",
    "        img,faceImg,rawImg = face2vec(faceDict)\n",
    "\n",
    "        # Classify image\n",
    "        testFace = np.asarray(img)\n",
    "        X_test_pca = pca.transform(testFace)\n",
    "        probs = clf.predict_proba(X_test_pca)\n",
    "        allProbs.append(probs[0])\n",
    "\n",
    "        # Face image\n",
    "        ct = ct + 1\n",
    "        ax0 = plt.subplot(gs[ct])\n",
    "        plt.imshow(cv2.cvtColor(rawImg, cv2.COLOR_BGR2RGB))\n",
    "        #plt.xlabel(Y_pred,fontsize=18)\n",
    "        plt.tick_params(\n",
    "            axis='both', \n",
    "            left='off', \n",
    "            top='off', \n",
    "            right='off', \n",
    "            bottom='off', \n",
    "            labelleft='off', \n",
    "            labeltop='off', \n",
    "            labelright='off', \n",
    "            labelbottom='off')\n",
    "\n",
    "        # Probability plot\n",
    "        ct = ct + 1\n",
    "        width = 1\n",
    "        ax1 = plt.subplot(gs[ct])\n",
    "        index = np.arange(len(emotionLabels))\n",
    "        ax2 = plt.bar(index * width,probs[0],width)\n",
    "        ax2[0].set_color('r')\n",
    "        ax2[1].set_color('g')\n",
    "        ax2[2].set_color('y')\n",
    "        ax2[3].set_color('c')\n",
    "        ax2[4].set_color('b')\n",
    "        ax2[5].set_color('k')\n",
    "        ax1.set_ylim([0, 1])\n",
    "        plt.xticks(index+0.5, emotionLabels,fontsize=18)\n",
    "        plt.ylabel('Probability',fontsize=18)\n",
    "    plt.savefig(saveName)\n",
    "    return allProbs\n",
    "    \n",
    "def saveMovieFrames(inDict):\n",
    "    inMovie = inDict['inMovie']\n",
    "    saveDir = inDict['saveDir']\n",
    "    frameNames = []\n",
    "    if not os.path.isdir(saveDir):\n",
    "        os.makedirs(saveDir)\n",
    "    \n",
    "    cap = cv2.VideoCapture(inMovie)\n",
    "    success,image = cap.read()\n",
    "    count = 0\n",
    "    while success:\n",
    "        success,image = cap.read()\n",
    "        if success:\n",
    "            cv2.imwrite(saveDir + \"frame%d.jpg\" % count, image)     # save frame as JPEG file\n",
    "            frameNames.append(saveDir + \"frame%d.jpg\" % count)\n",
    "            count += 1\n",
    "    cap.release()\n",
    "    return frameNames\n",
    "\n",
    "def saveOutPlot(inDict):\n",
    "    colors = ['r','g','y','c','b','k']\n",
    "    allProbs = np.asarray(inDict['allProbs'])\n",
    "    emotionLabels = inDict['emotionLabels']\n",
    "    outName = inDict['outName']\n",
    "    \n",
    "    plt.close('all')\n",
    "    fig = plt.figure(figsize=(12,6),frameon=False);\n",
    "    for i in range(allProbs.shape[1]):\n",
    "        plt.plot(allProbs[:,i],colors[i]);\n",
    "\n",
    "    # Adjust legend, axes\n",
    "    plt.legend(emotionLabels)\n",
    "    ax = plt.gca()\n",
    "    ax.set_xlim([0, allProbs.shape[0] - 1])\n",
    "    ax.set_ylim([0, 1])\n",
    "    plt.xlabel('Frame Number',fontsize=18)\n",
    "    plt.ylabel('Probability',fontsize=18)\n",
    "    # save plot\n",
    "    plt.savefig(outName)\n"
   ]
  },
  {
   "cell_type": "code",
   "execution_count": 3,
   "metadata": {
    "collapsed": false
   },
   "outputs": [],
   "source": [
    "# Save file\n",
    "saveDir = '/Users/abock/Desktop/InsightProject/websiteFiles/'\n",
    "saveFile = '/Users/abock/Desktop/InsightProject/websiteFiles/save.p'\n",
    "saveMovie = '/Users/abock/Desktop/InsightProject/websiteFiles/faceMovie.mp4'\n",
    "\n",
    "emotions = ['neutral','anger','contempt','disgust','fear','happy','sadness','surprise']\n",
    "emotionLabels = ['anger','disgust','happy','neutral','sadness','surprise']\n",
    "\n",
    "# OpenCV face classifier\n",
    "cascPath = '/usr/local/Cellar/opencv/2.4.13.2/share/OpenCV/haarcascades/haarcascade_frontalface_default.xml'\n",
    "faceCascade = cv2.CascadeClassifier(cascPath)\n",
    "\n",
    "# Face processing defaults\n",
    "outImgSize = 500\n",
    "scaleSize = 1.05\n",
    "numNeighbors = 3\n",
    "faceSize = 150\n",
    "showImage = 0\n",
    "reshape = 0\n",
    "\n",
    "# Classifier\n",
    "n_components = 50"
   ]
  },
  {
   "cell_type": "markdown",
   "metadata": {},
   "source": [
    "### CK+ images"
   ]
  },
  {
   "cell_type": "code",
   "execution_count": 4,
   "metadata": {
    "collapsed": false
   },
   "outputs": [
    {
     "name": "stdout",
     "output_type": "stream",
     "text": [
      "Loading input images...\n",
      "done in 41.527s\n"
     ]
    }
   ],
   "source": [
    "# Set paths, variable values\n",
    "dbDir = '/Users/abock/Desktop/InsightProject/faceDatabases/CK+/'\n",
    "emoDir = '/Users/abock/Desktop/InsightProject/faceDatabases/CK+/Emotion/'\n",
    "emoNums = [3,1,6,0,5,7]\n",
    "\n",
    "print(\"Loading input images...\")\n",
    "t0 = time()\n",
    "\n",
    "# Initialize variables\n",
    "subjectNames = []\n",
    "subjectFiles = []\n",
    "subjectEmotions = []\n",
    "subjectImages = []\n",
    "\n",
    "for subDir in glob.glob(emoDir + 'S*/'):\n",
    "    subject = os.path.basename(os.path.dirname(subDir))\n",
    "    \n",
    "    for faceDir in glob.glob(subDir + '*/'):\n",
    "        dirNum = os.path.basename(os.path.dirname(faceDir))\n",
    "        for thisFile in glob.glob(faceDir + '*.txt'):\n",
    "            imDir = os.path.join(dbDir,subject,dirNum)\n",
    "            fName = os.path.basename(thisFile[:-12])\n",
    "            imFile = os.path.join(imDir,fName + '.png')\n",
    "            \n",
    "            # Get the emotion\n",
    "            with open(thisFile) as f:\n",
    "                for line in f:\n",
    "                    line = map(float, line.split())\n",
    "                    lineInt = int(line[0])\n",
    "                    # ignore 'contempt' and 'fear'\n",
    "                    if lineInt != 2 and lineInt !=4:\n",
    "                        thisEmotion = emotions[lineInt]\n",
    "            # Find the face\n",
    "            inDict = dict([\n",
    "                ('imFile',imFile),\n",
    "                ('scaleSize',scaleSize),\n",
    "                ('numNeighbors',numNeighbors),\n",
    "                ('faceSize',faceSize),\n",
    "                ('outImgSize',outImgSize),\n",
    "                ('reshape',reshape),\n",
    "                ('faceCascade',faceCascade),\n",
    "            ])\n",
    "            rawImg,faces = findFace(inDict)\n",
    "\n",
    "            # If a face is detected\n",
    "            if len(faces): \n",
    "                inDict = dict([\n",
    "                    ('faces',faces),\n",
    "                    ('rawImg',rawImg),\n",
    "                    ('outImgSize',outImgSize),\n",
    "                    ('showImage',showImage),\n",
    "                    ])\n",
    "                img = face2vec(inDict)\n",
    "                \n",
    "                # Append to subjectNames\n",
    "                subjectNames.append(subject)\n",
    "                # Append to subjectEmotions\n",
    "                subjectEmotions.append(thisEmotion)\n",
    "                # Append to subjectFiles\n",
    "                subjectFiles.append(imFile) \n",
    "                # Append to output matrices\n",
    "                subjectImages.append(img[0]) \n",
    "                \n",
    "            # Load the neutral image\n",
    "            imFile = os.path.join(imDir,fName[:-3] + '001.png')\n",
    "            # Find the face\n",
    "            inDict = dict([\n",
    "                ('imFile',imFile),\n",
    "                ('scaleSize',scaleSize),\n",
    "                ('numNeighbors',numNeighbors),\n",
    "                ('faceSize',faceSize),\n",
    "                ('outImgSize',outImgSize),\n",
    "                ('reshape',reshape),\n",
    "                ('faceCascade',faceCascade),\n",
    "            ])\n",
    "            rawImg,faces = findFace(inDict)\n",
    "\n",
    "            # If a face is detected\n",
    "            if len(faces):\n",
    "                inDict = dict([\n",
    "                    ('faces',faces),\n",
    "                    ('rawImg',rawImg),\n",
    "                    ('outImgSize',outImgSize),\n",
    "                    ('showImage',showImage),\n",
    "                    ])\n",
    "                img = face2vec(inDict)\n",
    "                \n",
    "                # Append to subjectNames\n",
    "                subjectNames.append(subject)\n",
    "                # Append to subjectEmotions\n",
    "                subjectEmotions.append('neutral')\n",
    "                # Append to subjectFiles\n",
    "                subjectFiles.append(imFile) \n",
    "                # Append to output matrices\n",
    "                subjectImages.append(img[0]) \n",
    "                \n",
    "# Convert to numpy array    \n",
    "subjectNames = np.asarray(subjectNames)\n",
    "subjectEmotions = np.asarray(subjectEmotions)\n",
    "subjectFiles = np.asarray(subjectFiles)\n",
    "subjectImages = np.squeeze(np.asarray(subjectImages))\n",
    "\n",
    "print(\"done in %0.3fs\" % (time() - t0))"
   ]
  },
  {
   "cell_type": "code",
   "execution_count": 5,
   "metadata": {
    "collapsed": false
   },
   "outputs": [],
   "source": [
    "cv2.destroyAllWindows()"
   ]
  },
  {
   "cell_type": "markdown",
   "metadata": {},
   "source": [
    "### Pipes"
   ]
  },
  {
   "cell_type": "code",
   "execution_count": 29,
   "metadata": {
    "collapsed": true
   },
   "outputs": [],
   "source": [
    "X_train, X_test, Y_train, Y_test = train_test_split(\n",
    "    subjectImages, subjectEmotions, test_size=0.2, random_state=42)"
   ]
  },
  {
   "cell_type": "code",
   "execution_count": null,
   "metadata": {
    "collapsed": false
   },
   "outputs": [],
   "source": [
    "# pca = PCA()\n",
    "# logistic = linear_model.LogisticRegression()\n",
    "# # Make the 'pipe'\n",
    "# pcaPipe = Pipeline(steps=[('pca', pca), ('logistic', logistic)])"
   ]
  },
  {
   "cell_type": "code",
   "execution_count": 7,
   "metadata": {
    "collapsed": false
   },
   "outputs": [],
   "source": [
    "pca = PCA()\n",
    "svm = SVC(class_weight='balanced',probability=True);\n",
    "# Make the 'pipe'\n",
    "svmPipe = Pipeline(steps=[('pca', pca), ('svm', svm)])"
   ]
  },
  {
   "cell_type": "code",
   "execution_count": 10,
   "metadata": {
    "collapsed": false
   },
   "outputs": [
    {
     "name": "stdout",
     "output_type": "stream",
     "text": [
      "Finding the best parameters\n",
      "done in 44.098s\n"
     ]
    }
   ],
   "source": [
    "# Plot the PCA spectrum\n",
    "print(\"Finding the best parameters\")\n",
    "t0 = time()\n",
    "pca.fit(subjectImages)\n",
    "print(\"done in %0.3fs\" % (time() - t0))\n",
    "\n",
    "ax = plt.figure(1, figsize=(4, 3))\n",
    "plt.clf()\n",
    "#plt.axes([.2, .2, .7, .7])\n",
    "plt.plot(pca.explained_variance_ratio_, linewidth=2)\n",
    "#plt.axis('tight')\n",
    "plt.xlabel('n_components')\n",
    "plt.ylabel('explained_variance_ratio_')\n",
    "ax = plt.gca()\n",
    "ax.set_xlim([0, 100])\n",
    "plt.savefig('/Users/abock/Desktop/InsightProject/PCA_varExplained.jpg')"
   ]
  },
  {
   "cell_type": "code",
   "execution_count": null,
   "metadata": {
    "collapsed": false
   },
   "outputs": [],
   "source": [
    "# print(\"Finding the best logistic parameters\")\n",
    "# t0 = time()\n",
    "# n_components = [50,75,100]\n",
    "# C = [1e3, 5e3, 1e4, 5e4, 1e5]\n",
    "\n",
    "# #Parameters of pipelines can be set using ‘__’ separated parameter names:\n",
    "\n",
    "# clfPCA = GridSearchCV(pcaPipe,\n",
    "#                          dict(pca__n_components=n_components,\n",
    "#                               logistic__C=C))\n",
    "# clfPCA.fit(X_train, Y_train)\n",
    "\n",
    "# print(\"done in %0.3fs\" % (time() - t0))"
   ]
  },
  {
   "cell_type": "code",
   "execution_count": null,
   "metadata": {
    "collapsed": false
   },
   "outputs": [],
   "source": [
    "# plt.axvline(clfPCA.best_estimator_.named_steps['pca'].n_components,\n",
    "#             linestyle=':', label='n_components chosen')\n",
    "# plt.legend(prop=dict(size=12))\n",
    "# plt.show()"
   ]
  },
  {
   "cell_type": "code",
   "execution_count": null,
   "metadata": {
    "collapsed": false
   },
   "outputs": [],
   "source": [
    "# Y_pred = clfPCA.predict(X_test)\n",
    "# print(classification_report(Y_test, Y_pred))"
   ]
  },
  {
   "cell_type": "code",
   "execution_count": 32,
   "metadata": {
    "collapsed": false
   },
   "outputs": [
    {
     "name": "stdout",
     "output_type": "stream",
     "text": [
      "Finding the best SVM parameters\n",
      "done in 1199.467s\n"
     ]
    }
   ],
   "source": [
    "print(\"Finding the best SVM parameters\")\n",
    "t0 = time()\n",
    "#n_components = [50,75,100]\n",
    "n_components = 50\n",
    "C = [1e3, 5e3, 1e4, 5e4, 1e5]\n",
    "gamma = [0.0001, 0.0005, 0.001, 0.005, 0.01, 0.05, 0.1]\n",
    "\n",
    "#Parameters of pipelines can be set using ‘__’ separated parameter names:\n",
    "\n",
    "clfSVM = GridSearchCV(svmPipe,\n",
    "                         dict(pca__n_components=n_components,\n",
    "                              svm__C=C,svm__gamma=gamma))\n",
    "\n",
    "clfSVM.fit(subjectImages, subjectEmotions)\n",
    "\n",
    "print(\"done in %0.3fs\" % (time() - t0))"
   ]
  },
  {
   "cell_type": "code",
   "execution_count": 33,
   "metadata": {
    "collapsed": false
   },
   "outputs": [
    {
     "data": {
      "text/plain": [
       "Pipeline(steps=[('pca', PCA(copy=True, iterated_power='auto', n_components=50, random_state=None,\n",
       "  svd_solver='auto', tol=0.0, whiten=False)), ('svm', SVC(C=1000.0, cache_size=200, class_weight='balanced', coef0=0.0,\n",
       "  decision_function_shape=None, degree=3, gamma=0.0001, kernel='rbf',\n",
       "  max_iter=-1, probability=True, random_state=None, shrinking=True,\n",
       "  tol=0.001, verbose=False))])"
      ]
     },
     "execution_count": 33,
     "metadata": {},
     "output_type": "execute_result"
    }
   ],
   "source": [
    "clfSVM.best_estimator_"
   ]
  },
  {
   "cell_type": "code",
   "execution_count": 34,
   "metadata": {
    "collapsed": false
   },
   "outputs": [
    {
     "data": {
      "image/png": "[encoded data removed]",
      "text/plain": [
       "<matplotlib.figure.Figure at 0x11c164150>"
      ]
     },
     "metadata": {},
     "output_type": "display_data"
    }
   ],
   "source": [
    "ax = plt.figure(1, figsize=(12, 6))\n",
    "plt.clf()\n",
    "plt.plot(pca.explained_variance_ratio_, linewidth=2)\n",
    "plt.xlabel('n_components')\n",
    "plt.ylabel('explained_variance_ratio_')\n",
    "ax = plt.gca()\n",
    "ax.set_xlim([0, 100])\n",
    "plt.axvline(clfSVM.best_estimator_.named_steps['pca'].n_components,\n",
    "            linestyle=':', label='n_components chosen')\n",
    "plt.legend(prop=dict(size=12))\n",
    "plt.show()\n",
    "#plt.savefig('/Users/abock/Desktop/InsightProject/PCA_varExplained-optimal.jpg')"
   ]
  },
  {
   "cell_type": "code",
   "execution_count": 35,
   "metadata": {
    "collapsed": true
   },
   "outputs": [],
   "source": [
    "X_train, X_test, Y_train, Y_test = train_test_split(\n",
    "    subjectImages, subjectEmotions, test_size=0.2, random_state=42)"
   ]
  },
  {
   "cell_type": "code",
   "execution_count": 36,
   "metadata": {
    "collapsed": false
   },
   "outputs": [
    {
     "name": "stdout",
     "output_type": "stream",
     "text": [
      "             precision    recall  f1-score   support\n",
      "\n",
      "      anger       1.00      1.00      1.00        20\n",
      "    disgust       1.00      1.00      1.00         8\n",
      "      happy       1.00      1.00      1.00        16\n",
      "    neutral       1.00      1.00      1.00        65\n",
      "    sadness       1.00      1.00      1.00         7\n",
      "   surprise       1.00      1.00      1.00        15\n",
      "\n",
      "avg / total       1.00      1.00      1.00       131\n",
      "\n"
     ]
    }
   ],
   "source": [
    "Y_pred = clfSVM.predict(X_test)\n",
    "print(classification_report(Y_test, Y_pred))"
   ]
  },
  {
   "cell_type": "code",
   "execution_count": null,
   "metadata": {
    "collapsed": false
   },
   "outputs": [],
   "source": [
    "for emotion in emotions:\n",
    "    print(emotion)\n",
    "    emotionSummary = np.array(subjectEmotions == emotion)\n",
    "    print(np.sum(emotionSummary))"
   ]
  },
  {
   "cell_type": "code",
   "execution_count": null,
   "metadata": {
    "collapsed": false
   },
   "outputs": [],
   "source": [
    "# Save out the pca and classifier\n",
    "print(\"Saving the training set to file\")\n",
    "t0 = time()\n",
    "pickle.dump([pca,clf],open(saveFile,'w'))\n",
    "print(\"done in %0.3fs\" % (time() - t0))"
   ]
  },
  {
   "cell_type": "markdown",
   "metadata": {},
   "source": [
    "# Train a model"
   ]
  },
  {
   "cell_type": "markdown",
   "metadata": {},
   "source": [
    "### SVM"
   ]
  },
  {
   "cell_type": "code",
   "execution_count": null,
   "metadata": {
    "collapsed": false
   },
   "outputs": [],
   "source": [
    "X_train = subjectImages\n",
    "Y_train = subjectEmotions\n",
    "\n",
    "print(\"Extracting the top %d eigenfaces from %d faces\"\n",
    "      % (n_components, X_train.shape[0]))\n",
    "t0 = time()\n",
    "pca = PCA(n_components, svd_solver='randomized',\n",
    "          whiten=True).fit(X_train)\n",
    "print(\"done in %0.3fs\" % (time() - t0))\n",
    "\n",
    "print(\"Projecting the input data on the eigenfaces orthonormal basis\")\n",
    "t0 = time()\n",
    "X_train_pca = pca.transform(X_train)\n",
    "print(\"done in %0.3fs\" % (time() - t0))\n",
    "\n",
    "print(\"Fitting the classifier to the training set\")\n",
    "t0 = time()\n",
    "\n",
    "# param_grid = {'C': [1e3, 5e3, 1e4, 5e4, 1e5],\n",
    "#               'gamma': [0.0001, 0.0005, 0.001, 0.005, 0.01, 0.1]}\n",
    "\n",
    "# param_grid = {'C': [1e3, 5e3, 1e4, 5e4, 1e5],\n",
    "#               'gamma': [0.001, 0.005, 0.01, 0.05, 0.1],\n",
    "#              'kernel': ['linear','poly','rbf','sigmoid']}\n",
    "\n",
    "param_grid = {'C': [1e3, 5e3, 1e4, 5e4, 1e5],\n",
    "              'gamma': [0.0001, 0.0005, 0.001, 0.005, 0.01, 0.05, 0.1],\n",
    "             'kernel': ['rbf']}\n",
    "\n",
    "clf = GridSearchCV(SVC(class_weight='balanced',probability=True), param_grid)\n",
    "\n",
    "# metrics = ['minkowski','euclidean','manhattan'] \n",
    "# weights = ['uniform','distance'] #10.0**np.arange(-5,4)\n",
    "# NN = np.arange(1,30)\n",
    "# #algorithms = ['ball_tree', 'kd_tree', 'brute']\n",
    "# algorithms = ['brute']\n",
    "# param_grid = dict(metric=metrics,weights=weights,n_neighbors=NN,algorithm=algorithms)\n",
    "# clf = GridSearchCV(neighbors.KNeighborsClassifier(), param_grid)\n",
    "\n",
    "clf = clf.fit(X_train_pca, Y_train)\n",
    "print(\"done in %0.3fs\" % (time() - t0))\n",
    "print(\"Best estimator found by grid search:\")\n",
    "print(clf.best_estimator_)"
   ]
  },
  {
   "cell_type": "markdown",
   "metadata": {},
   "source": [
    "# Train / test"
   ]
  },
  {
   "cell_type": "code",
   "execution_count": 62,
   "metadata": {
    "collapsed": false
   },
   "outputs": [
    {
     "name": "stdout",
     "output_type": "stream",
     "text": [
      "Extracting the top 50 eigenfaces from 523 faces\n",
      "done in 15.918s\n",
      "Projecting the input data on the eigenfaces orthonormal basis\n",
      "done in 1.138s\n",
      "Fitting the classifier to the training set\n",
      "done in 599.050s\n",
      "Best estimator found by grid search:\n",
      "SVC(C=1000.0, cache_size=200, class_weight='balanced', coef0=0.0,\n",
      "  decision_function_shape=None, degree=3, gamma=0.0001, kernel='linear',\n",
      "  max_iter=-1, probability=True, random_state=None, shrinking=True,\n",
      "  tol=0.001, verbose=False)\n",
      "             precision    recall  f1-score   support\n",
      "\n",
      "      anger       0.73      0.55      0.63        20\n",
      "    disgust       0.55      0.75      0.63         8\n",
      "      happy       0.92      0.75      0.83        16\n",
      "    neutral       0.84      0.80      0.82        65\n",
      "    sadness       0.19      0.43      0.26         7\n",
      "   surprise       0.79      0.73      0.76        15\n",
      "\n",
      "avg / total       0.77      0.73      0.74       131\n",
      "\n"
     ]
    }
   ],
   "source": [
    "X_train, X_test, Y_train, Y_test = train_test_split(\n",
    "    subjectImages, subjectEmotions, test_size=0.2, random_state=42)\n",
    "\n",
    "print(\"Extracting the top %d eigenfaces from %d faces\"\n",
    "      % (n_components, X_train.shape[0]))\n",
    "t0 = time()\n",
    "pca = PCA(n_components, svd_solver='randomized',\n",
    "          whiten=True).fit(X_train)\n",
    "print(\"done in %0.3fs\" % (time() - t0))\n",
    "\n",
    "print(\"Projecting the input data on the eigenfaces orthonormal basis\")\n",
    "t0 = time()\n",
    "X_train_pca = pca.transform(X_train)\n",
    "print(\"done in %0.3fs\" % (time() - t0))\n",
    "\n",
    "print(\"Fitting the classifier to the training set\")\n",
    "t0 = time()\n",
    "\n",
    "# param_grid = {'C': [1e3, 5e3, 1e4, 5e4, 1e5],\n",
    "#               'gamma': [0.001, 0.005, 0.01, 0.05, 0.1],\n",
    "#              'kernel': ['linear','poly','rbf','sigmoid']}\n",
    "\n",
    "param_grid = {'C': [1e3, 5e3, 1e4, 5e4, 1e5],\n",
    "              'gamma': [0.0001, 0.0005, 0.001, 0.005, 0.01, 0.05, 0.1],\n",
    "             'kernel': ['linear']}\n",
    "\n",
    "clf = GridSearchCV(SVC(class_weight='balanced',probability=True), param_grid)\n",
    "\n",
    "# metrics = ['minkowski','euclidean','manhattan'] \n",
    "# weights = ['uniform','distance'] #10.0**np.arange(-5,4)\n",
    "# NN = np.arange(1,30)\n",
    "# #algorithms = ['ball_tree', 'kd_tree', 'brute']\n",
    "# algorithms = ['brute']\n",
    "# param_grid = dict(metric=metrics,weights=weights,n_neighbors=NN,algorithm=algorithms)\n",
    "# clf = GridSearchCV(neighbors.KNeighborsClassifier(), param_grid)\n",
    "\n",
    "clf = clf.fit(X_train_pca, Y_train)\n",
    "print(\"done in %0.3fs\" % (time() - t0))\n",
    "print(\"Best estimator found by grid search:\")\n",
    "print(clf.best_estimator_)\n",
    "\n",
    "# Plot results\n",
    "X_test_pca = pca.transform(X_test)\n",
    "Y_pred = clf.predict(X_test_pca)\n",
    "probs = clf.predict_proba(X_test_pca)\n",
    "print(classification_report(Y_test, Y_pred))"
   ]
  },
  {
   "cell_type": "code",
   "execution_count": 61,
   "metadata": {
    "collapsed": false
   },
   "outputs": [],
   "source": [
    "conf_arr = confusion_matrix(Y_test, Y_pred)"
   ]
  },
  {
   "cell_type": "code",
   "execution_count": 56,
   "metadata": {
    "collapsed": false
   },
   "outputs": [
    {
     "data": {
      "image/png": "[encoded data removed]",
      "text/plain": [
       "<matplotlib.figure.Figure at 0x11be21f50>"
      ]
     },
     "metadata": {},
     "output_type": "display_data"
    }
   ],
   "source": [
    "norm_conf = []\n",
    "for i in conf_arr:\n",
    "    a = 0\n",
    "    tmp_arr = []\n",
    "    a = sum(i, 0)\n",
    "    for j in i:\n",
    "        tmp_arr.append(float(j)/float(a))\n",
    "    norm_conf.append(tmp_arr)\n",
    "\n",
    "fig = plt.figure(1,figsize=(8, 8))\n",
    "\n",
    "plt.clf()\n",
    "ax = fig.add_subplot(111)\n",
    "ax.set_aspect(1)\n",
    "res = ax.imshow(np.array(norm_conf), cmap=plt.cm.jet, \n",
    "                interpolation='nearest')\n",
    "\n",
    "width, height = conf_arr.shape\n",
    "\n",
    "for x in xrange(width):\n",
    "    for y in xrange(height):\n",
    "        ax.annotate(str(conf_arr[x][y]), xy=(y, x), \n",
    "                    horizontalalignment='center',\n",
    "                    verticalalignment='center')\n",
    "\n",
    "plt.xticks(range(width), emotionLabels[:width])\n",
    "plt.yticks(range(height), emotionLabels[:height])\n",
    "plt.show()"
   ]
  },
  {
   "cell_type": "code",
   "execution_count": 65,
   "metadata": {
    "collapsed": false
   },
   "outputs": [
    {
     "data": {
      "text/plain": [
       "1486106225.763846"
      ]
     },
     "execution_count": 65,
     "metadata": {},
     "output_type": "execute_result"
    }
   ],
   "source": [
    "foo = time()\n",
    "foo"
   ]
  },
  {
   "cell_type": "code",
   "execution_count": null,
   "metadata": {
    "collapsed": false
   },
   "outputs": [],
   "source": [
    "# Plot Recall vs Precision\n",
    "outMat = precision_recall_fscore_support(Y_test, Y_pred,labels=emotionLabels)\n",
    "precision = outMat[0]\n",
    "recall = outMat[1]\n",
    "plt.plot(recall,precision, 'ro')\n",
    "plt.axis([0, 1, 0, 1])\n",
    "plt.gca().set_aspect('equal', adjustable='box')\n",
    "plt.xlabel('Recall')\n",
    "plt.ylabel('Precision')\n",
    "plt.show()\n",
    "\n",
    "# Plot ROC curve\n",
    "fpr = dict()\n",
    "tpr = dict()\n",
    "roc_auc = dict()\n",
    "for i in range(probs.shape[1]):\n",
    "    fpr[i], tpr[i], _ = roc_curve(Y_test == emotionLabels[i],Y_pred == emotionLabels[i])\n",
    "    roc_auc = auc(fpr[i],tpr[i])\n",
    "    plt.plot(fpr[i],tpr[i],label=emotionLabels[i] + ' (AUC = %0.2f)' % roc_auc)\n",
    "plt.legend(loc=4)\n",
    "plt.xlabel('False Positive Rate')\n",
    "plt.ylabel('True Positive Rate')\n",
    "#plt.gca().set_aspect('equal', adjustable='box')\n",
    "plt.show()"
   ]
  },
  {
   "cell_type": "code",
   "execution_count": null,
   "metadata": {
    "collapsed": false
   },
   "outputs": [],
   "source": [
    "n_components = 50"
   ]
  },
  {
   "cell_type": "markdown",
   "metadata": {},
   "source": [
    "# Novel image"
   ]
  },
  {
   "cell_type": "code",
   "execution_count": null,
   "metadata": {
    "collapsed": false
   },
   "outputs": [],
   "source": [
    "print(\"Loading the training set to file\")\n",
    "t0 = time()\n",
    "pca, clf = pickle.load(open(saveFile,'rb'))\n",
    "print(\"done in %0.3fs\" % (time() - t0))"
   ]
  },
  {
   "cell_type": "code",
   "execution_count": null,
   "metadata": {
    "collapsed": false
   },
   "outputs": [],
   "source": [
    "# Save figures\n",
    "imFiles = ['/Users/abock/Desktop/InsightProject/imageFiles/sad-Keanu.png',\n",
    "           '/Users/abock/Desktop/InsightProject/imageFiles/happy-guy.png',\n",
    "           '/Users/abock/Desktop/InsightProject/imageFiles/angry-guy.jpg',\n",
    "           '/Users/abock/Desktop/InsightProject/imageFiles/sadDawson.jpg',\n",
    "           '/Users/abock/Desktop/InsightProject/websiteFiles/andrewBock/images/frame32.jpg',\n",
    "           '/Users/abock/Desktop/InsightProject/websiteFiles/andrewBock/images/frame9.jpg',\n",
    "          ]\n",
    "inDict = dict([\n",
    "    ('imFiles',imFiles),\n",
    "    ('faceCascade',faceCascade),\n",
    "    ('emotionLabels',emotionLabels),\n",
    "    ('faceCascade',faceCascade),\n",
    "    ('pca',pca),\n",
    "    ('clf',clf),\n",
    "    ('saveName',saveName),\n",
    "])\n",
    "savePlot(inDict)"
   ]
  },
  {
   "cell_type": "code",
   "execution_count": null,
   "metadata": {
    "collapsed": false
   },
   "outputs": [],
   "source": [
    "saveName"
   ]
  },
  {
   "cell_type": "code",
   "execution_count": null,
   "metadata": {
    "collapsed": false
   },
   "outputs": [],
   "source": [
    "#imFile = '/Users/abock/Desktop/InsightProject/imageFiles/angry-guy.jpg'\n",
    "imFile = '/Users/abock/Desktop/InsightProject/imageFiles/sad-Keanu.png'\n",
    "#imFile = '/Users/abock/Desktop/InsightProject/imageFiles/happy-guy.png'\n",
    "#imFile = '/Users/abock/Desktop/InsightProject/imageFiles/sadDawson.jpg'\n",
    "\n",
    "#imFile = '/Users/abock/Desktop/InsightProject/websiteFiles/andrewBock/images/frame1.jpg'\n",
    "\n",
    "#imFile = '/Users/abock/Downloads/winonaRyder/frame590.jpg'\n",
    "\n",
    "#imFile = '/Users/abock/Desktop/InsightProject/imageFiles/aia_sadness_547.png'\n",
    "#imFile = '/Users/abock/Desktop/InsightProject/imageFiles/aia_anger_93.png'\n",
    "\n",
    "cv2.destroyAllWindows()\n",
    "\n",
    "cascPath = '/usr/local/Cellar/opencv/2.4.13.2/share/OpenCV/haarcascades/haarcascade_frontalface_default.xml'\n",
    "faceCascade = cv2.CascadeClassifier(cascPath)\n",
    "\n",
    "# Load the image\n",
    "inDict = dict([\n",
    "    ('imFile',imFile),\n",
    "    ('scaleSize',1.05),\n",
    "    ('numNeighbors',3),\n",
    "    ('faceSize',10),\n",
    "    ('outImgSize',500),\n",
    "    ('reshape',0),\n",
    "    ('faceCascade',faceCascade),\n",
    "])\n",
    "rawImg,faces = findFace(inDict)\n",
    "\n",
    "# Pull out image for classification\n",
    "inDict = dict([\n",
    "    ('faces',faces),\n",
    "    ('rawImg',rawImg),\n",
    "    ('outImgSize',outImgSize),\n",
    "    ('showImage',0),\n",
    "])\n",
    "img,faceImg,rawImg = face2vec(inDict)\n",
    "\n",
    "# Classify image\n",
    "testFace = np.asarray(img)\n",
    "X_test_pca = pca.transform(testFace)\n",
    "probs = clf.predict_proba(X_test_pca)\n",
    "\n",
    "# Plot\n",
    "fig = plt.figure(figsize=(18,6));\n",
    "gs = gridspec.GridSpec(1, 2, width_ratios=[1,2]);\n",
    "\n",
    "# Face image \n",
    "ax0 = plt.subplot(gs[0])\n",
    "plt.imshow(cv2.cvtColor(rawImg, cv2.COLOR_BGR2RGB))\n",
    "#plt.xlabel(Y_pred,fontsize=18)\n",
    "plt.tick_params(\n",
    "    axis='both', \n",
    "    left='off', \n",
    "    top='off', \n",
    "    right='off', \n",
    "    bottom='off', \n",
    "    labelleft='off', \n",
    "    labeltop='off', \n",
    "    labelright='off', \n",
    "    labelbottom='off')\n",
    "\n",
    "# Probability plot\n",
    "width = 1\n",
    "ax1 = plt.subplot(gs[1])\n",
    "index = np.arange(len(emotionLabels))\n",
    "ax2 = plt.bar(index * width,probs[0],width)\n",
    "ax2[0].set_color('r')\n",
    "ax2[1].set_color('g')\n",
    "ax2[2].set_color('y')\n",
    "ax2[3].set_color('c')\n",
    "ax2[4].set_color('b')\n",
    "ax2[5].set_color('k')\n",
    "ax1.set_ylim([0, 1])\n",
    "plt.xticks(index+0.5, emotionLabels,fontsize=18)\n",
    "plt.ylabel('Probability',fontsize=18)\n",
    "\n",
    "plt.show()"
   ]
  },
  {
   "cell_type": "markdown",
   "metadata": {},
   "source": [
    "# Save frames AND plot as movie - andrewBock"
   ]
  },
  {
   "cell_type": "code",
   "execution_count": null,
   "metadata": {
    "collapsed": false
   },
   "outputs": [],
   "source": [
    "inDir = '/Users/abock/Desktop/InsightProject/websiteFiles/andrewBock/images/'\n",
    "outDir = '/Users/abock/Desktop/InsightProject/websiteFiles/andrewBock/figures/'\n",
    "\n",
    "for i in range(0,99):\n",
    "    imFile = (inDir + \"frame%d.jpg\" % i)\n",
    "    saveName = (outDir + \"frame%d.jpg\" % i)\n",
    "    \n",
    "    # Load the image\n",
    "    inDict = dict([\n",
    "        ('imFile',imFile),\n",
    "        ('scaleSize',1.05),\n",
    "        ('numNeighbors',3),\n",
    "        ('faceSize',10),\n",
    "        ('outImgSize',outImgSize),\n",
    "        ('reshape',0),\n",
    "        ('faceCascade',faceCascade),\n",
    "    ])\n",
    "\n",
    "    rawImg,faces = findFace(inDict)\n",
    "\n",
    "    # Pull out image for classification\n",
    "    inDict = dict([\n",
    "        ('faces',faces),\n",
    "        ('rawImg',rawImg),\n",
    "        ('outImgSize',outImgSize),\n",
    "        ('showImage',0),\n",
    "    ])\n",
    "    img,faceImg,rawImg = face2vec(inDict)\n",
    "    \n",
    "    \n",
    "    testFace = np.asarray(img)\n",
    "    X_test_pca = pca.transform(testFace)\n",
    "    probs = clf.predict_proba(X_test_pca)\n",
    "        \n",
    "    inDict = dict([\n",
    "        ('imFiles', imFiles),\n",
    "        ('faceCascade', faceCascade),\n",
    "        ('emotionLabels', emotionLabels),\n",
    "        ('pca', pca),\n",
    "        ('clf',clf),\n",
    "        ('saveName', plotName),\n",
    "        ])\n",
    "    savePlot(inDict)\n",
    "    plt.close('all')"
   ]
  },
  {
   "cell_type": "markdown",
   "metadata": {},
   "source": [
    "# Record Movie"
   ]
  },
  {
   "cell_type": "code",
   "execution_count": null,
   "metadata": {
    "collapsed": false
   },
   "outputs": [],
   "source": [
    "import numpy as np\n",
    "import cv2\n",
    "import time\n",
    "import os\n",
    "\n",
    "outDir = '/Users/abock/Desktop/faceMovie/'\n",
    "if not os.path.isdir(outDir):\n",
    "    os.makedirs(outDir)\n",
    "\n",
    "cap = cv2.VideoCapture(0)\n",
    "\n",
    "# Define the codec and create VideoWriter object\n",
    "cap = cv2.VideoCapture(0)\n",
    "w = cap.get(cv2.CAP_PROP_FRAME_WIDTH);\n",
    "h = cap.get(cv2.CAP_PROP_FRAME_HEIGHT); \n",
    "fourcc = cv2.VideoWriter_fourcc(*'mp4v')\n",
    "out = cv2.VideoWriter(saveMovie,fourcc, 15.0, (int(w),int(h)))\n",
    "\n",
    "time.sleep(5) # wait for camera to catch up\n",
    "ct = 0\n",
    "while ct < 100:\n",
    "    ct = ct + 1\n",
    "    # Capture frame-by-frame\n",
    "    ret, frame = cap.read()\n",
    "    \n",
    "    if ret==True:\n",
    "        #frame = cv2.flip(frame,0)\n",
    "\n",
    "        # write the flipped frame\n",
    "        out.write(frame)\n",
    "\n",
    "        cv2.imshow('frame',frame)\n",
    "        cv2.waitKey(30)\n",
    "\n",
    "# When everything done, release the capture\n",
    "cap.release()\n",
    "out.release()\n",
    "cv2.destroyAllWindows()"
   ]
  },
  {
   "cell_type": "markdown",
   "metadata": {},
   "source": [
    "# Save movie output plot"
   ]
  },
  {
   "cell_type": "code",
   "execution_count": null,
   "metadata": {
    "collapsed": false
   },
   "outputs": [],
   "source": [
    "# Get frame names\n",
    "inDict = dict([\n",
    "    ('inMovie','/Users/abock/Desktop/InsightProject/websiteFiles/subject001/faceMovie.mp4'),\n",
    "    ('saveDir','/Users/abock/Desktop/InsightProject/websiteFiles/subject001/faceMovie/'),\n",
    "])\n",
    "frameNames = saveMovieFrames(inDict)\n",
    "\n",
    "# Get probabilities, save output frames\n",
    "saveName = '/Users/abock/Desktop/InsightProject/websiteFiles/subject001/outFrames.jpg'\n",
    "inDict = dict([\n",
    "    ('imFiles',frameNames),\n",
    "    ('faceCascade',faceCascade),\n",
    "    ('emotionLabels',emotionLabels),\n",
    "    ('saveName',saveName),\n",
    "    ('pca',pca),\n",
    "    ('clf',clf),\n",
    "])\n",
    "allProbs = savePlot(inDict)\n",
    "\n",
    "# Save output plot\n",
    "outName = '/Users/abock/Desktop/InsightProject/websiteFiles/subject001/outPlot.jpg'\n",
    "inDict = dict([\n",
    "    ('allProbs',allProbs),\n",
    "    ('emotionLabels',emotionLabels),\n",
    "    ('outName',outName),\n",
    "])\n",
    "saveOutPlot(inDict)"
   ]
  },
  {
   "cell_type": "markdown",
   "metadata": {},
   "source": [
    "# Save frames as movie"
   ]
  },
  {
   "cell_type": "code",
   "execution_count": null,
   "metadata": {
    "collapsed": true
   },
   "outputs": [],
   "source": [
    "fileNames = [\n",
    "    '/Users/abock/Desktop/InsightProject/websiteFiles/frame10.jpg',\n",
    "    '/Users/abock/Desktop/InsightProject/websiteFiles/frame11.jpg',\n",
    "    '/Users/abock/Desktop/InsightProject/websiteFiles/frame12.jpg',\n",
    "    '/Users/abock/Desktop/InsightProject/websiteFiles/frame13.jpg',\n",
    "    '/Users/abock/Desktop/InsightProject/websiteFiles/frame14.jpg',\n",
    "]"
   ]
  },
  {
   "cell_type": "code",
   "execution_count": null,
   "metadata": {
    "collapsed": false
   },
   "outputs": [],
   "source": [
    "import cv2\n",
    "cap = cv2.VideoCapture(0)\n",
    "w = cap.get(cv2.CAP_PROP_FRAME_WIDTH);\n",
    "h = cap.get(cv2.CAP_PROP_FRAME_HEIGHT); \n",
    "cap.release()\n",
    "fourcc = cv2.VideoWriter_fourcc(*'mp4v')\n",
    "out = cv2.VideoWriter('foo.mp4',fourcc, 15.0, (int(w),int(h)))\n",
    "for fileName in fileNames:\n",
    "    foo = cv2.imread(fileName)\n",
    "    out.write(foo)\n",
    "    cv2.imshow('foo',foo)\n",
    "    cv2.waitKey(30)\n",
    "\n",
    "out.release()\n",
    "cv2.destroyAllWindows()"
   ]
  },
  {
   "cell_type": "code",
   "execution_count": null,
   "metadata": {
    "collapsed": true
   },
   "outputs": [],
   "source": [
    "cv2.destroyAllWindows()"
   ]
  },
  {
   "cell_type": "markdown",
   "metadata": {},
   "source": [
    "# Download images"
   ]
  },
  {
   "cell_type": "code",
   "execution_count": null,
   "metadata": {
    "collapsed": false
   },
   "outputs": [],
   "source": [
    "from bs4 import BeautifulSoup\n",
    "import urllib2 \n",
    "import urllib\n",
    "import os\n",
    "\n",
    "def saveURLimages(url,outDir):\n",
    "    req = urllib2.Request(url, headers={'User-Agent': 'Mozilla/5.0'})\n",
    "    html = urllib2.urlopen(req).read()\n",
    "    soup = BeautifulSoup(html)\n",
    "    # get images\n",
    "    images = [img for img in soup.findAll('img')]\n",
    "    print (str(len(images)) + \" images found.\")\n",
    "    print 'Downloading images to: ' + outDir\n",
    "    \n",
    "    # download images\n",
    "    image_links = [each.get('src') for each in images]\n",
    "    #print(image_links)\n",
    "    for each in image_links:\n",
    "        if not each is None:\n",
    "            if each[0:4] == 'http':\n",
    "                #print(each)\n",
    "                filename=each.split('/')[-1]\n",
    "                urllib.urlretrieve(each,os.path.join(outDir,filename + '.jpg'))"
   ]
  },
  {
   "cell_type": "markdown",
   "metadata": {},
   "source": [
    "### Google"
   ]
  },
  {
   "cell_type": "code",
   "execution_count": null,
   "metadata": {
    "collapsed": false
   },
   "outputs": [],
   "source": [
    "# Save happy faces (Google Images)\n",
    "happyPerson = 'https://www.google.com/search?site=&tbm=isch&source=hp&biw=1680&bih=949&q=happy+person&oq=happy+person&gs_l=img.3..0l10.15311.17067.0.17213.12.7.0.5.5.0.82.450.7.7.0....0...1ac.1.64.img..0.12.461.FpA8-IvoCOk'\n",
    "url = happyPerson\n",
    "outDir = '/Users/abock/Desktop/HappyFaces'\n",
    "if not os.path.isdir(outDir):\n",
    "    os.makedirs(outDir)\n",
    "saveURLimages(url,outDir)\n",
    "\n",
    "# Save sad faces (Google Images)\n",
    "sadPerson = 'https://www.google.com/search?site=&tbm=isch&source=hp&biw=840&bih=949&q=sad+person&oq=sad+person&gs_l=img.3..0l10.732.2268.0.2413.10.7.0.3.3.0.337.1010.0j1j2j1.4.0....0...1ac.1.64.img..3.7.1015.rkrdqlI1p-k'\n",
    "url = sadPerson\n",
    "outDir = '/Users/abock/Desktop/SadFaces'\n",
    "if not os.path.isdir(outDir):\n",
    "    os.makedirs(outDir)\n",
    "saveURLimages(url,outDir)"
   ]
  },
  {
   "cell_type": "markdown",
   "metadata": {},
   "source": [
    "### Bing"
   ]
  },
  {
   "cell_type": "code",
   "execution_count": null,
   "metadata": {
    "collapsed": false
   },
   "outputs": [],
   "source": [
    "# Save happy faces (Bing Images)\n",
    "happyPerson = 'https://www.bing.com/images/search?q=happy%20person&qs=n&form=QBIR&pq=happy%20person&sc=8-12&sp=-1&sk='\n",
    "url = happyPerson\n",
    "outDir = '/Users/abock/Desktop/HappyFaces'\n",
    "if not os.path.isdir(outDir):\n",
    "    os.makedirs(outDir)\n",
    "saveURLimages(url,outDir)\n",
    "\n",
    "# Save sad faces (Bing Images)\n",
    "sadPerson = 'https://www.bing.com/images/search?q=sad+person&qs=n&form=QBILPG&pq=sad+person&sc=8-8&sp=-1&sk='\n",
    "url = sadPerson\n",
    "outDir = '/Users/abock/Desktop/SadFaces'\n",
    "if not os.path.isdir(outDir):\n",
    "    os.makedirs(outDir)\n",
    "saveURLimages(url,outDir)"
   ]
  },
  {
   "cell_type": "markdown",
   "metadata": {},
   "source": [
    "### Happy Faces"
   ]
  },
  {
   "cell_type": "code",
   "execution_count": null,
   "metadata": {
    "collapsed": false
   },
   "outputs": [],
   "source": [
    "# Save happy faces (Yahoo Images)\n",
    "outDir = '/Users/abock/Desktop/HappyFaces'\n",
    "if not os.path.isdir(outDir):\n",
    "    os.makedirs(outDir)\n",
    "    \n",
    "happyPerson = 'https://images.search.yahoo.com/search/images;_ylt=AwrTcXdqJYFYvE0A0juLuLkF?p=happy+person&ei=UTF-8&iscqry=&fr=sfp'\n",
    "url = happyPerson\n",
    "saveURLimages(url,outDir)\n",
    "\n",
    "happyHumanFace = 'https://images.search.yahoo.com/search/images;_ylt=AwrTcXyAJoFYWHMApB6JzbkF;_ylu=X3oDMTBsZ29xY3ZzBHNlYwNzZWFyY2gEc2xrA2J1dHRvbg--;_ylc=X1MDOTYwNjI4NTcEX3IDMgRhY3RuA2NsawRiY2sDNmltaTE4bGM2N29ybyUyNmIlM0QzJTI2cyUzRDI5BGNzcmNwdmlkAzNzeFdhVEl3Tmk1cFdrRkZXR1BqZUFkSE5qVXVPQUFBQUFDdHdqNncEZnIDc2ZwBGZyMgNzYS1ncARncHJpZANLQm5lbEt4X1JOeUlzNXY5WC40cVRBBG10ZXN0aWQDbnVsbARuX3N1Z2cDMTAEb3JpZ2luA2ltYWdlcy5zZWFyY2gueWFob28uY29tBHBvcwMwBHBxc3RyAwRwcXN0cmwDBHFzdHJsAzE2BHF1ZXJ5A2hhcHB5IGh1bWFuIGZhY2UEdF9zdG1wAzE0ODQ4NTkwNzYEdnRlc3RpZANudWxs?gprid=KBnelKx_RNyIs5v9X.4qTA&pvid=3sxWaTIwNi5pWkFFWGPjeAdHNjUuOAAAAACtwj6w&p=happy+human+face&fr=sfp&fr2=sb-top-images.search.yahoo.com&ei=UTF-8&n=60&x=wrt'\n",
    "url = happyHumanFace\n",
    "saveURLimages(url,outDir)\n",
    "\n"
   ]
  },
  {
   "cell_type": "markdown",
   "metadata": {},
   "source": [
    "### Sad Faces"
   ]
  },
  {
   "cell_type": "code",
   "execution_count": null,
   "metadata": {
    "collapsed": true
   },
   "outputs": [],
   "source": [
    "# Output directory\n",
    "outDir = '/Users/abock/Desktop/SadFaces'\n",
    "if not os.path.isdir(outDir):\n",
    "    os.makedirs(outDir)\n",
    "   \n",
    "# Yahoo Images\n",
    "sadPerson = 'https://images.search.yahoo.com/search/images;_ylt=AwrTcXZ6JYFYl68AvSGJzbkF;_ylu=X3oDMTBsZ29xY3ZzBHNlYwNzZWFyY2gEc2xrA2J1dHRvbg--;_ylc=X1MDOTYwNjI4NTcEX3IDMgRhY3RuA2NsawRiY2sDNmltaTE4bGM2N29ybyUyNmIlM0QzJTI2cyUzRDI5BGNzcmNwdmlkA3VBdHlfekl3Tmk1cFdrRkZXR1BqZUFDaE5qVXVPQUFBQUFDZUhiR3oEZnIDc2ZwBGZyMgNzYS1ncARncHJpZANnb3NOVG13V1RTdVc1MXA5ZmhMZGlBBG10ZXN0aWQDbnVsbARuX3N1Z2cDMTAEb3JpZ2luA2ltYWdlcy5zZWFyY2gueWFob28uY29tBHBvcwMwBHBxc3RyAwRwcXN0cmwDBHFzdHJsAzEwBHF1ZXJ5A3NhZCBwZXJzb24EdF9zdG1wAzE0ODQ4NTg3NjAEdnRlc3RpZANudWxs?gprid=gosNTmwWTSuW51p9fhLdiA&pvid=uAty_zIwNi5pWkFFWGPjeAChNjUuOAAAAACeHbGz&p=sad+person&fr=sfp&fr2=sb-top-images.search.yahoo.com&ei=UTF-8&n=60&x=wrt'\n",
    "url = sadPerson\n",
    "saveURLimages(url,outDir)\n",
    "\n",
    "sadHumanFace = 'https://images.search.yahoo.com/search/images;_ylt=AwrTcXmHJYFY_lwACdOJzbkF;_ylu=X3oDMTBsZ29xY3ZzBHNlYwNzZWFyY2gEc2xrA2J1dHRvbg--;_ylc=X1MDOTYwNjI4NTcEX3IDMgRhY3RuA2NsawRiY2sDNmltaTE4bGM2N29ybyUyNmIlM0QzJTI2cyUzRDI5BGNzcmNwdmlkA2N3Q2RJREl3Tmk1cFdrRkZXR1BqZUFUVU5qVXVPQUFBQUFDZTZzVXEEZnIDc2ZwBGZyMgNzYS1ncARncHJpZANKZHp4ZFBPMVFfSzFlYlZTTkpycGhBBG10ZXN0aWQDbnVsbARuX3N1Z2cDMTAEb3JpZ2luA2ltYWdlcy5zZWFyY2gueWFob28uY29tBHBvcwMwBHBxc3RyAwRwcXN0cmwDBHFzdHJsAzE0BHF1ZXJ5A3NhZCBodW1hbiBmYWNlBHRfc3RtcAMxNDg0ODU5MDA5BHZ0ZXN0aWQDbnVsbA--?gprid=JdzxdPO1Q_K1ebVSNJrphA&pvid=cwCdIDIwNi5pWkFFWGPjeATUNjUuOAAAAACe6sUq&p=sad+human+face&fr=sfp&fr2=sb-top-images.search.yahoo.com&ei=UTF-8&n=60&x=wrt'\n",
    "url = sadHumanFace\n",
    "saveURLimages(url,outDir)"
   ]
  },
  {
   "cell_type": "code",
   "execution_count": null,
   "metadata": {
    "collapsed": true
   },
   "outputs": [],
   "source": []
  },
  {
   "cell_type": "code",
   "execution_count": null,
   "metadata": {
    "collapsed": false
   },
   "outputs": [],
   "source": [
    "# # Set paths, variable values\n",
    "# dbDir = '/Users/abock/Desktop/InsightProject/faceDatabases/FERG/'\n",
    "\n",
    "# print(\"Loading input images...\")\n",
    "# t0 = time()\n",
    "\n",
    "# # Find the images and emotion labels\n",
    "# for subDir in glob.glob(dbDir + '*/'):\n",
    "#     subject = os.path.basename(os.path.dirname(subDir))\n",
    "    \n",
    "#     for faceDir in glob.glob(subDir + '*/'):\n",
    "#         tmp = os.path.basename(os.path.dirname(faceDir))\n",
    "#         thisEmotion = tmp[len(subject)+1:]\n",
    "#         for imFile in glob.glob(faceDir + '*.png'):\n",
    "#             # Load the image\n",
    "#             rawImg = cv2.imread(imFile)\n",
    "\n",
    "#             # Detect faces in the image\n",
    "#             faces = faceCascade.detectMultiScale(\n",
    "#             rawImg,\n",
    "#             scaleFactor=scaleSize,\n",
    "#             minNeighbors=numNeighbors,\n",
    "#             minSize=(faceSize, faceSize),\n",
    "#             flags = cv2.CASCADE_SCALE_IMAGE\n",
    "#             )\n",
    "\n",
    "#             # If a face is detected\n",
    "#             if len(faces):\n",
    "#                 # Convert to gray\n",
    "#                 gImg = cv2.cvtColor(rawImg, cv2.COLOR_BGR2GRAY)\n",
    "\n",
    "#                 # Resize just the face\n",
    "#                 x,y,w,h = faces[0,:]\n",
    "#                 faceImg = gImg[y:y+h,x:x+w]\n",
    "#                 img = cv2.resize(faceImg,(outImgSize,outImgSize),interpolation = cv2.INTER_CUBIC)\n",
    "\n",
    "# #                 cv2.imshow('Image',img)\n",
    "# #                 cv2.waitKey(30)\n",
    "\n",
    "#                 # Flatten\n",
    "#                 l = img.shape[0] * img.shape[1]\n",
    "#                 img = img.reshape(1, l)\n",
    "                \n",
    "#                 # Append to subjectEmotions\n",
    "#                 subjectNames.append(subject)\n",
    "#                 # Append to subjectEmotions\n",
    "#                 subjectEmotions.append(thisEmotion)\n",
    "#                 # Append to subjectFiles\n",
    "#                 subjectFiles.append(imFile) \n",
    "#                 # Append to output matrices\n",
    "#                 subjectImages.append(img[0])\n",
    "                \n",
    "# print(\"done in %0.3fs\" % (time() - t0))"
   ]
  }
 ],
 "metadata": {
  "anaconda-cloud": {},
  "kernelspec": {
   "display_name": "Python [default]",
   "language": "python",
   "name": "python2"
  },
  "language_info": {
   "codemirror_mode": {
    "name": "ipython",
    "version": 2
   },
   "file_extension": ".py",
   "mimetype": "text/x-python",
   "name": "python",
   "nbconvert_exporter": "python",
   "pygments_lexer": "ipython2",
   "version": "2.7.13"
  }
 },
 "nbformat": 4,
 "nbformat_minor": 2
}
